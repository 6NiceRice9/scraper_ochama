{
 "cells": [
  {
   "cell_type": "code",
   "execution_count": 297,
   "id": "initial_id",
   "metadata": {
    "collapsed": true,
    "ExecuteTime": {
     "end_time": "2024-04-03T03:31:09.977158Z",
     "start_time": "2024-04-03T03:31:09.972884Z"
    }
   },
   "outputs": [],
   "source": [
    "import requests\n",
    "import json\n"
   ]
  },
  {
   "cell_type": "code",
   "outputs": [],
   "source": [
    "with open('C:\\\\Users\\\\NiceRice\\\\git\\\\scraper_ochama\\\\scraper_ochama\\\\ochama_structure.txt') as f:\n",
    "  data = json.load(f)\n",
    "  data = data[0]"
   ],
   "metadata": {
    "collapsed": false,
    "ExecuteTime": {
     "end_time": "2024-04-03T03:37:06.349303Z",
     "start_time": "2024-04-03T03:37:06.336207Z"
    }
   },
   "id": "e3b9dc5f6463bc8b",
   "execution_count": 298
  },
  {
   "cell_type": "code",
   "outputs": [
    {
     "ename": "KeyError",
     "evalue": "1",
     "output_type": "error",
     "traceback": [
      "\u001B[1;31m---------------------------------------------------------------------------\u001B[0m",
      "\u001B[1;31mKeyError\u001B[0m                                  Traceback (most recent call last)",
      "Cell \u001B[1;32mIn[293], line 6\u001B[0m\n\u001B[0;32m      2\u001B[0m headers \u001B[38;5;241m=\u001B[39m {\n\u001B[0;32m      3\u001B[0m     \u001B[38;5;124m\"\u001B[39m\u001B[38;5;124mContent-type\u001B[39m\u001B[38;5;124m\"\u001B[39m: \u001B[38;5;124m\"\u001B[39m\u001B[38;5;124mapplication/json\u001B[39m\u001B[38;5;124m\"\u001B[39m,\n\u001B[0;32m      4\u001B[0m }\n\u001B[0;32m      5\u001B[0m idd \u001B[38;5;241m=\u001B[39m \u001B[38;5;241m0\u001B[39m\n\u001B[1;32m----> 6\u001B[0m \u001B[38;5;28;01mfor\u001B[39;00m parentId \u001B[38;5;129;01min\u001B[39;00m \u001B[43mdata\u001B[49m\u001B[43m[\u001B[49m\u001B[38;5;241;43m1\u001B[39;49m\u001B[43m]\u001B[49m:\n\u001B[0;32m      8\u001B[0m     \u001B[38;5;28mprint\u001B[39m(\u001B[38;5;124mf\u001B[39m\u001B[38;5;124m\"\u001B[39m\u001B[38;5;124mparentId: \u001B[39m\u001B[38;5;132;01m{\u001B[39;00mparentId\u001B[38;5;132;01m}\u001B[39;00m\u001B[38;5;124m   parent id: \u001B[39m\u001B[38;5;132;01m{\u001B[39;00midd\u001B[38;5;132;01m}\u001B[39;00m\u001B[38;5;124m\"\u001B[39m)\n\u001B[0;32m      9\u001B[0m     idd \u001B[38;5;241m+\u001B[39m\u001B[38;5;241m=\u001B[39m \u001B[38;5;241m1\u001B[39m\n",
      "\u001B[1;31mKeyError\u001B[0m: 1"
     ]
    }
   ],
   "source": [
    "# request overview table\n",
    "headers = {\n",
    "    \"Content-type\": \"application/json\",\n",
    "}"
   ],
   "metadata": {
    "collapsed": false,
    "ExecuteTime": {
     "end_time": "2024-04-03T03:25:57.205421Z",
     "start_time": "2024-04-03T03:25:57.184781Z"
    }
   },
   "id": "6a940a71bcf0566",
   "execution_count": 293
  },
  {
   "cell_type": "code",
   "outputs": [],
   "source": [
    "# request to get the shape of the page\n",
    "r = requests.post('https://www.ochama.com/api/v1/category/aggregate/all', headers=headers, json=data) # the right way to send POST requests"
   ],
   "metadata": {
    "collapsed": false
   },
   "id": "534e341f479afe6a"
  },
  {
   "cell_type": "code",
   "outputs": [],
   "source": [
    "# header for category\n",
    "# keep unchanged\n",
    "headers = {\n",
    "    \"Content-type\": \"application/json;charset=UTF-8\",\n",
    "}\n",
    "# categoryId == fresh sortiments deals,   pageSize == how many articles should be on one page\n",
    "data = {\"categoryId\":4808,\n",
    "        \"page\":1,\n",
    "        \"pageSize\":1000,\n",
    "        \"sortType\":\"rank\"\n",
    "}"
   ],
   "metadata": {
    "collapsed": false,
    "ExecuteTime": {
     "end_time": "2024-04-03T02:12:54.622992Z",
     "start_time": "2024-04-03T02:12:54.617398Z"
    }
   },
   "id": "827465aa09a11a69",
   "execution_count": 205
  },
  {
   "cell_type": "code",
   "outputs": [],
   "source": [
    "# request to the page\n",
    "r = requests.post('https://www.ochama.com/api/v1/category/aggregate/sku', headers=headers, json=data) # the right way to send POST requests"
   ],
   "metadata": {
    "collapsed": false,
    "ExecuteTime": {
     "end_time": "2024-04-03T02:12:56.130307Z",
     "start_time": "2024-04-03T02:12:55.260278Z"
    }
   },
   "id": "de0ba54f4d647395",
   "execution_count": 206
  },
  {
   "cell_type": "code",
   "outputs": [],
   "source": [
    "#convert to JSON format\n",
    "data_json= r.json()"
   ],
   "metadata": {
    "collapsed": false,
    "ExecuteTime": {
     "end_time": "2024-04-03T02:12:56.696541Z",
     "start_time": "2024-04-03T02:12:56.692593Z"
    }
   },
   "id": "fca88b3156b595ee",
   "execution_count": 207
  },
  {
   "cell_type": "code",
   "outputs": [
    {
     "name": "stdout",
     "output_type": "stream",
     "text": [
      "ids 1   0.0 €    Price: 4.99 €, Product: Eggs 20pcs\n",
      "ids 2   0.0 €    Price: 2.45 €, Product: Quail Eggs 12pcs\n",
      "ids 3   0.0 €    Price: 2.49 €, Product: Free-Range Egg M 10Pieces\n",
      "ids 4   0.0 €    Price: 2.99 €, Product: E.W.N. Free-Range Egg M/L 10pcs\n",
      "ids 5   0.7 €    Price: 0.99 €, Product: Free-Range Egg M 6Pieces\n",
      "ids 6   0.3 €    Price: 2.69 €, Product: Bio Organic Egg S/M/L 6st\n",
      "ids 7   0.6 €    Price: 2.39 €, Product: Free-Range Egg L 10Pieces\n",
      "ids 8   0.5 €    Price: 1.49 €, Product: Free-Range Egg L 6pieces\n",
      "ids 9   0.0 €    Price: 2.39 €, Product: EWN Corn free-range egg L 6pcs\n",
      "ids 10   0.0 €    Price: 5.29 €, Product: Quail Eggs Fresh 18pcs/box\n"
     ]
    }
   ],
   "source": [
    "# Extracting 'skuNameEn' and 'price' for each product\n",
    "ids = 1\n",
    "for product in data_json['content']:\n",
    "    product_name = product['skuNameEn']\n",
    "    product_price_now = float(product['price'])\n",
    "    product_price_normal = float(product['basePrice'])\n",
    "    product_largeimg = product['largeImg']\n",
    "    \n",
    "    product_price_diff = round((product_price_normal - product_price_now), 2)\n",
    "    \n",
    "    print(f\"ids {ids}   {product_price_diff} €    Price: {product_price_now} €, Product: {product_name}\") \n",
    "    ids += 1\n",
    "    "
   ],
   "metadata": {
    "collapsed": false,
    "ExecuteTime": {
     "end_time": "2024-04-03T02:12:57.547274Z",
     "start_time": "2024-04-03T02:12:57.535489Z"
    }
   },
   "id": "fd007e3ed2ae68f5",
   "execution_count": 208
  },
  {
   "cell_type": "code",
   "outputs": [],
   "source": [
    "# overview full raw data\n",
    "print(data_json)"
   ],
   "metadata": {
    "collapsed": false
   },
   "id": "c004eff019ae7197",
   "execution_count": null
  },
  {
   "cell_type": "code",
   "outputs": [],
   "source": [],
   "metadata": {
    "collapsed": false
   },
   "id": "277c4d1d22d5fc80"
  }
 ],
 "metadata": {
  "kernelspec": {
   "display_name": "Python 3",
   "language": "python",
   "name": "python3"
  },
  "language_info": {
   "codemirror_mode": {
    "name": "ipython",
    "version": 2
   },
   "file_extension": ".py",
   "mimetype": "text/x-python",
   "name": "python",
   "nbconvert_exporter": "python",
   "pygments_lexer": "ipython2",
   "version": "2.7.6"
  }
 },
 "nbformat": 4,
 "nbformat_minor": 5
}
